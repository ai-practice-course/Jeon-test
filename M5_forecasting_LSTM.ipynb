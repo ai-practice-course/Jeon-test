{
  "cells": [
    {
      "cell_type": "code",
      "execution_count": 1,
      "metadata": {},
      "outputs": [],
      "source": [
        "# !pip install tensorflow-gpu keras-gpu"
      ]
    },
    {
      "cell_type": "code",
      "execution_count": 2,
      "metadata": {
        "colab": {
          "base_uri": "https://localhost:8080/"
        },
        "id": "kBJLiWC5hkEG",
        "outputId": "a968d312-70dd-43fa-a768-65654442273a"
      },
      "outputs": [],
      "source": [
        "from math import log, floor\n",
        "from sklearn.neighbors import KDTree\n",
        "\n",
        "from pathlib import Path\n",
        "from sklearn.utils import shuffle\n",
        "from tqdm.notebook import tqdm as tqdm\n",
        "\n",
        "import warnings\n",
        "warnings.filterwarnings(\"ignore\")\n",
        "\n",
        "import pandas as pd\n",
        "import numpy as np\n",
        "import matplotlib.pylab as plt\n",
        "import seaborn as sns\n",
        "from itertools import cycle\n",
        "import tensorflow as tf\n",
        "from tensorflow import keras\n",
        "from sklearn.preprocessing import MinMaxScaler\n",
        "\n",
        "pd.set_option('max_columns', 50)\n",
        "plt.style.use('bmh')\n",
        "color_pal = plt.rcParams['axes.prop_cycle'].by_key()['color']\n",
        "color_cycle = cycle(plt.rcParams['axes.prop_cycle'].by_key()['color'])"
      ]
    },
    {
      "cell_type": "markdown",
      "metadata": {},
      "source": [
        "### Downcast function for efficient calculation"
      ]
    },
    {
      "cell_type": "code",
      "execution_count": 3,
      "metadata": {},
      "outputs": [],
      "source": [
        "def downcast_dtypes(df):\n",
        "  float_cols=[c for c in df if df[c].dtype == 'float64']\n",
        "  int_cols = [c for c in df if df[c].dtype in [\"int64\",\"int32\"]]\n",
        "  df[float_cols]=df[float_cols].astype(np.float32)\n",
        "  df[int_cols]=df[int_cols].astype(np.int16)\n",
        "  return df"
      ]
    },
    {
      "cell_type": "markdown",
      "metadata": {},
      "source": [
        "### Data load & preprocess"
      ]
    },
    {
      "cell_type": "code",
      "execution_count": 4,
      "metadata": {
        "colab": {
          "base_uri": "https://localhost:8080/"
        },
        "id": "K5aE-7ide7yA",
        "outputId": "e85d1e86-a99e-4b5e-c976-37dbb8ee8137"
      },
      "outputs": [],
      "source": [
        "sales_train_validation = pd.read_csv('sales_train_validation.csv')\n",
        "calendar = pd.read_csv('calendar.csv')\n",
        "calendar = calendar.fillna(0)\n",
        "sell_prices = pd.read_csv('sell_prices.csv')\n",
        "sales_train_validation = pd.read_csv('sales_train_validation.csv')\n",
        "sample_submission = pd.read_csv('sample_submission.csv')\n",
        "\n",
        "sales_train_validation=downcast_dtypes(sales_train_validation)"
      ]
    },
    {
      "cell_type": "markdown",
      "metadata": {},
      "source": [
        "### LSTM 모형 정의\n",
        "* 3만개 품목에 대해서 출력이 3만개인 1개의 모형으로 fitting\n",
        "* submission 데이터로 sMAPE 비교"
      ]
    },
    {
      "cell_type": "markdown",
      "metadata": {
        "id": "DsDlk4W3jXWf"
      },
      "source": [
        "Creating Dataset"
      ]
    },
    {
      "cell_type": "code",
      "execution_count": 1,
      "metadata": {
        "colab": {
          "base_uri": "https://localhost:8080/",
          "height": 488
        },
        "id": "ZdSlc2O1jVSn",
        "outputId": "a3809ec3-047d-49bf-cddb-995c04c4ac64"
      },
      "outputs": [
        {
          "ename": "NameError",
          "evalue": "name 'sales_train_validation' is not defined",
          "output_type": "error",
          "traceback": [
            "\u001b[0;31m---------------------------------------------------------------------------\u001b[0m",
            "\u001b[0;31mNameError\u001b[0m                                 Traceback (most recent call last)",
            "\u001b[0;32m<ipython-input-1-b641844f0a0d>\u001b[0m in \u001b[0;36m<module>\u001b[0;34m\u001b[0m\n\u001b[0;32m----> 1\u001b[0;31m \u001b[0msales_train_validation\u001b[0m\u001b[0;34m.\u001b[0m\u001b[0mhead\u001b[0m\u001b[0;34m(\u001b[0m\u001b[0;34m)\u001b[0m\u001b[0;34m\u001b[0m\u001b[0;34m\u001b[0m\u001b[0m\n\u001b[0m",
            "\u001b[0;31mNameError\u001b[0m: name 'sales_train_validation' is not defined"
          ]
        }
      ],
      "source": [
        "sales_train_validation.head()"
      ]
    },
    {
      "cell_type": "markdown",
      "metadata": {},
      "source": [
        "#### Data 생성을 위해 transpose 후 Id 관련 column 제거"
      ]
    },
    {
      "cell_type": "code",
      "execution_count": 6,
      "metadata": {
        "id": "Y084Mc50jdWN"
      },
      "outputs": [],
      "source": [
        "sales_train_validation=sales_train_validation.T\n",
        "sales_train_validations=sales_train_validation.fillna(0)\n",
        "sales_train_validation=sales_train_validation[6:]"
      ]
    },
    {
      "cell_type": "markdown",
      "metadata": {},
      "source": [
        "#### Data preprocess"
      ]
    },
    {
      "cell_type": "code",
      "execution_count": 7,
      "metadata": {
        "id": "FBdAyf4WlWLq"
      },
      "outputs": [],
      "source": [
        "sc = MinMaxScaler(feature_range=(0,1))\n",
        "sales_train_validation=sc.fit_transform(sales_train_validation)"
      ]
    },
    {
      "cell_type": "code",
      "execution_count": 8,
      "metadata": {
        "colab": {
          "base_uri": "https://localhost:8080/"
        },
        "id": "S7jwvON3lpuk",
        "outputId": "6f335eb7-2ea3-4a3b-c2b2-a30349e8ef79"
      },
      "outputs": [
        {
          "data": {
            "text/plain": [
              "(1913, 30490)"
            ]
          },
          "execution_count": 8,
          "metadata": {},
          "output_type": "execute_result"
        }
      ],
      "source": [
        "sales_train_validation.shape"
      ]
    },
    {
      "cell_type": "code",
      "execution_count": 9,
      "metadata": {
        "id": "h2ks7q3nlvJs"
      },
      "outputs": [],
      "source": [
        "lookback = 20\n",
        "x_train = []\n",
        "y_train = []\n",
        "for i in range(lookback, 1913):\n",
        "    x_train.append(sales_train_validation[i-lookback:i])\n",
        "    y_train.append(sales_train_validation[i][0:30490])"
      ]
    },
    {
      "cell_type": "code",
      "execution_count": 10,
      "metadata": {
        "id": "q05A8amOml0i"
      },
      "outputs": [],
      "source": [
        "x_train=np.array(x_train, dtype='float16')\n",
        "y_train=np.array(y_train, dtype='float16')"
      ]
    },
    {
      "cell_type": "code",
      "execution_count": 11,
      "metadata": {
        "colab": {
          "base_uri": "https://localhost:8080/"
        },
        "id": "hvxqZfwonfUV",
        "outputId": "d9baf361-1bf4-4d27-c8b6-f8ae8e05f2e2"
      },
      "outputs": [
        {
          "data": {
            "text/plain": [
              "((1893, 20, 30490), (1893, 30490))"
            ]
          },
          "execution_count": 11,
          "metadata": {},
          "output_type": "execute_result"
        }
      ],
      "source": [
        "x_train.shape,y_train.shape"
      ]
    },
    {
      "cell_type": "code",
      "execution_count": 12,
      "metadata": {},
      "outputs": [
        {
          "name": "stdout",
          "output_type": "stream",
          "text": [
            "[name: \"/device:CPU:0\"\n",
            "device_type: \"CPU\"\n",
            "memory_limit: 268435456\n",
            "locality {\n",
            "}\n",
            "incarnation: 14503870413973009985\n",
            "xla_global_id: -1\n",
            "]\n"
          ]
        }
      ],
      "source": [
        "from tensorflow.python.client import device_lib\n",
        "print(device_lib.list_local_devices())"
      ]
    },
    {
      "cell_type": "code",
      "execution_count": 13,
      "metadata": {
        "colab": {
          "base_uri": "https://localhost:8080/"
        },
        "id": "gFAiPsi3nfMH",
        "outputId": "1b0fe692-0734-4962-9462-17d84dfc2ee1"
      },
      "outputs": [
        {
          "name": "stdout",
          "output_type": "stream",
          "text": [
            "Model: \"sequential\"\n",
            "_________________________________________________________________\n",
            " Layer (type)                Output Shape              Param #   \n",
            "=================================================================\n",
            " lstm (LSTM)                 (None, 64)                7822080   \n",
            "                                                                 \n",
            " dense (Dense)               (None, 30490)             1981850   \n",
            "                                                                 \n",
            "=================================================================\n",
            "Total params: 9,803,930\n",
            "Trainable params: 9,803,930\n",
            "Non-trainable params: 0\n",
            "_________________________________________________________________\n"
          ]
        }
      ],
      "source": [
        "model = keras.Sequential()\n",
        "model.add(keras.layers.LSTM(units=64, input_shape=(np.array(x_train).shape[1], np.array(x_train).shape[2])))\n",
        "model.add(keras.layers.Dense(30490))\n",
        "\n",
        "model.compile(\n",
        "    loss='mean_squared_error',\n",
        "    optimizer = keras.optimizers.Adam(0.001)\n",
        ")\n",
        "model.summary()"
      ]
    },
    {
      "cell_type": "code",
      "execution_count": 19,
      "metadata": {
        "colab": {
          "base_uri": "https://localhost:8080/"
        },
        "id": "ob6FuG6KneyJ",
        "outputId": "4969d994-61f6-416b-ae83-10bfc0b64b75"
      },
      "outputs": [
        {
          "name": "stdout",
          "output_type": "stream",
          "text": [
            "Epoch 1/20\n",
            "190/190 [==============================] - 39s 189ms/step - loss: 0.0131\n",
            "Epoch 2/20\n",
            "190/190 [==============================] - 35s 186ms/step - loss: 0.0125\n",
            "Epoch 3/20\n",
            "190/190 [==============================] - 35s 185ms/step - loss: 0.0122\n",
            "Epoch 4/20\n",
            "190/190 [==============================] - 35s 184ms/step - loss: 0.0121\n",
            "Epoch 5/20\n",
            "190/190 [==============================] - 35s 182ms/step - loss: 0.0120\n",
            "Epoch 6/20\n",
            "190/190 [==============================] - 35s 182ms/step - loss: 0.0119\n",
            "Epoch 7/20\n",
            "190/190 [==============================] - 35s 182ms/step - loss: 0.0118\n",
            "Epoch 8/20\n",
            "190/190 [==============================] - 34s 181ms/step - loss: 0.0118\n",
            "Epoch 9/20\n",
            "190/190 [==============================] - 35s 182ms/step - loss: 0.0118\n",
            "Epoch 10/20\n",
            "190/190 [==============================] - 35s 184ms/step - loss: 0.0118\n",
            "Epoch 11/20\n",
            "190/190 [==============================] - 35s 183ms/step - loss: 0.0117\n",
            "Epoch 12/20\n",
            "190/190 [==============================] - 35s 183ms/step - loss: 0.0117\n",
            "Epoch 13/20\n",
            "190/190 [==============================] - 35s 182ms/step - loss: 0.0117\n",
            "Epoch 14/20\n",
            "190/190 [==============================] - 35s 183ms/step - loss: 0.0117\n",
            "Epoch 15/20\n",
            "190/190 [==============================] - 35s 183ms/step - loss: 0.0117\n",
            "Epoch 16/20\n",
            "190/190 [==============================] - 34s 181ms/step - loss: 0.0117\n",
            "Epoch 17/20\n",
            "190/190 [==============================] - 35s 182ms/step - loss: 0.0117\n",
            "Epoch 18/20\n",
            "190/190 [==============================] - 34s 182ms/step - loss: 0.0117\n",
            "Epoch 19/20\n",
            "190/190 [==============================] - 34s 181ms/step - loss: 0.0117\n",
            "Epoch 20/20\n",
            "190/190 [==============================] - 34s 182ms/step - loss: 0.0117\n"
          ]
        },
        {
          "data": {
            "text/plain": [
              "<keras.callbacks.History at 0x7f72984a7b80>"
            ]
          },
          "execution_count": 19,
          "metadata": {},
          "output_type": "execute_result"
        }
      ],
      "source": [
        "model.fit(x_train, y_train, epochs=20, batch_size=10)"
      ]
    },
    {
      "cell_type": "code",
      "execution_count": 20,
      "metadata": {},
      "outputs": [
        {
          "name": "stderr",
          "output_type": "stream",
          "text": [
            "WARNING:absl:Found untraced functions such as lstm_cell_1_layer_call_fn, lstm_cell_1_layer_call_and_return_conditional_losses while saving (showing 2 of 2). These functions will not be directly callable after loading.\n"
          ]
        }
      ],
      "source": [
        "model.save('./model/lstm_model')"
      ]
    },
    {
      "cell_type": "markdown",
      "metadata": {
        "id": "21sMF8CipaDP"
      },
      "source": [
        "### Test Data\n",
        "* 가장 마지막의 max_pred step을 예측\n",
        "* 향후 submission의 첫 lookback period 이후 max_pred step을 예측"
      ]
    },
    {
      "cell_type": "code",
      "execution_count": null,
      "metadata": {
        "id": "xdvPjYxLpdGX"
      },
      "outputs": [],
      "source": [
        "lookback = 20\n",
        "max_pred = 10\n",
        "inputs = sales_train_validation[-max_pred - lookback: - max_pred]\n",
        "actuals = sales_train_validation[- max_pred:]\n",
        "inputs = sc.transform(inputs)\n",
        "actuals = sc.transform(actuals)"
      ]
    },
    {
      "cell_type": "code",
      "execution_count": null,
      "metadata": {
        "colab": {
          "base_uri": "https://localhost:8080/"
        },
        "id": "B5MFRtczpdCz",
        "outputId": "27477fbc-e08a-4924-e21a-88c6388d9648"
      },
      "outputs": [],
      "source": [
        "inputs_1 = np.expand_dims(inputs, 0)"
      ]
    },
    {
      "cell_type": "code",
      "execution_count": null,
      "metadata": {},
      "outputs": [
        {
          "data": {
            "text/plain": [
              "(1, 20, 30490)"
            ]
          },
          "execution_count": 42,
          "metadata": {},
          "output_type": "execute_result"
        }
      ],
      "source": [
        "inputs_1.shape"
      ]
    },
    {
      "cell_type": "code",
      "execution_count": null,
      "metadata": {},
      "outputs": [
        {
          "data": {
            "text/plain": [
              "(10, 30490)"
            ]
          },
          "execution_count": 38,
          "metadata": {},
          "output_type": "execute_result"
        }
      ],
      "source": [
        "actuals.shape"
      ]
    },
    {
      "cell_type": "code",
      "execution_count": null,
      "metadata": {
        "id": "2yHXPBNQpc21"
      },
      "outputs": [],
      "source": [
        "predictions=model.predict(inputs_1)"
      ]
    },
    {
      "cell_type": "code",
      "execution_count": null,
      "metadata": {},
      "outputs": [
        {
          "data": {
            "text/plain": [
              "(1, 30490)"
            ]
          },
          "execution_count": 76,
          "metadata": {},
          "output_type": "execute_result"
        }
      ],
      "source": [
        "predictions.shape"
      ]
    },
    {
      "cell_type": "markdown",
      "metadata": {},
      "source": [
        "#### Load model"
      ]
    },
    {
      "cell_type": "code",
      "execution_count": 1,
      "metadata": {},
      "outputs": [
        {
          "ename": "OSError",
          "evalue": "SavedModel file does not exist at: ./model/lstm_model/{saved_model.pbtxt|saved_model.pb}",
          "output_type": "error",
          "traceback": [
            "\u001b[0;31m---------------------------------------------------------------------------\u001b[0m",
            "\u001b[0;31mOSError\u001b[0m                                   Traceback (most recent call last)",
            "\u001b[0;32m<ipython-input-1-d84eea88483c>\u001b[0m in \u001b[0;36m<module>\u001b[0;34m\u001b[0m\n\u001b[1;32m      1\u001b[0m \u001b[0;32mfrom\u001b[0m \u001b[0mtensorflow\u001b[0m \u001b[0;32mimport\u001b[0m \u001b[0mkeras\u001b[0m\u001b[0;34m\u001b[0m\u001b[0;34m\u001b[0m\u001b[0m\n\u001b[0;32m----> 2\u001b[0;31m \u001b[0mmodel\u001b[0m \u001b[0;34m=\u001b[0m \u001b[0mkeras\u001b[0m\u001b[0;34m.\u001b[0m\u001b[0mmodels\u001b[0m\u001b[0;34m.\u001b[0m\u001b[0mload_model\u001b[0m\u001b[0;34m(\u001b[0m\u001b[0;34m'./model/lstm_model'\u001b[0m\u001b[0;34m)\u001b[0m\u001b[0;34m\u001b[0m\u001b[0;34m\u001b[0m\u001b[0m\n\u001b[0m",
            "\u001b[0;32m~/.pyenv/versions/3.8.3/envs/image_crawler/lib/python3.8/site-packages/keras/utils/traceback_utils.py\u001b[0m in \u001b[0;36merror_handler\u001b[0;34m(*args, **kwargs)\u001b[0m\n\u001b[1;32m     65\u001b[0m     \u001b[0;32mexcept\u001b[0m \u001b[0mException\u001b[0m \u001b[0;32mas\u001b[0m \u001b[0me\u001b[0m\u001b[0;34m:\u001b[0m  \u001b[0;31m# pylint: disable=broad-except\u001b[0m\u001b[0;34m\u001b[0m\u001b[0;34m\u001b[0m\u001b[0m\n\u001b[1;32m     66\u001b[0m       \u001b[0mfiltered_tb\u001b[0m \u001b[0;34m=\u001b[0m \u001b[0m_process_traceback_frames\u001b[0m\u001b[0;34m(\u001b[0m\u001b[0me\u001b[0m\u001b[0;34m.\u001b[0m\u001b[0m__traceback__\u001b[0m\u001b[0;34m)\u001b[0m\u001b[0;34m\u001b[0m\u001b[0;34m\u001b[0m\u001b[0m\n\u001b[0;32m---> 67\u001b[0;31m       \u001b[0;32mraise\u001b[0m \u001b[0me\u001b[0m\u001b[0;34m.\u001b[0m\u001b[0mwith_traceback\u001b[0m\u001b[0;34m(\u001b[0m\u001b[0mfiltered_tb\u001b[0m\u001b[0;34m)\u001b[0m \u001b[0;32mfrom\u001b[0m \u001b[0;32mNone\u001b[0m\u001b[0;34m\u001b[0m\u001b[0;34m\u001b[0m\u001b[0m\n\u001b[0m\u001b[1;32m     68\u001b[0m     \u001b[0;32mfinally\u001b[0m\u001b[0;34m:\u001b[0m\u001b[0;34m\u001b[0m\u001b[0;34m\u001b[0m\u001b[0m\n\u001b[1;32m     69\u001b[0m       \u001b[0;32mdel\u001b[0m \u001b[0mfiltered_tb\u001b[0m\u001b[0;34m\u001b[0m\u001b[0;34m\u001b[0m\u001b[0m\n",
            "\u001b[0;32m~/.pyenv/versions/3.8.3/envs/image_crawler/lib/python3.8/site-packages/tensorflow/python/saved_model/loader_impl.py\u001b[0m in \u001b[0;36mparse_saved_model\u001b[0;34m(export_dir)\u001b[0m\n\u001b[1;32m    113\u001b[0m       \u001b[0;32mraise\u001b[0m \u001b[0mIOError\u001b[0m\u001b[0;34m(\u001b[0m\u001b[0;34mf\"Cannot parse file {path_to_pbtxt}: {str(e)}.\"\u001b[0m\u001b[0;34m)\u001b[0m\u001b[0;34m\u001b[0m\u001b[0;34m\u001b[0m\u001b[0m\n\u001b[1;32m    114\u001b[0m   \u001b[0;32melse\u001b[0m\u001b[0;34m:\u001b[0m\u001b[0;34m\u001b[0m\u001b[0;34m\u001b[0m\u001b[0m\n\u001b[0;32m--> 115\u001b[0;31m     raise IOError(\n\u001b[0m\u001b[1;32m    116\u001b[0m         \u001b[0;34mf\"SavedModel file does not exist at: {export_dir}{os.path.sep}\"\u001b[0m\u001b[0;34m\u001b[0m\u001b[0;34m\u001b[0m\u001b[0m\n\u001b[1;32m    117\u001b[0m         \u001b[0;34mf\"{{{constants.SAVED_MODEL_FILENAME_PBTXT}|\"\u001b[0m\u001b[0;34m\u001b[0m\u001b[0;34m\u001b[0m\u001b[0m\n",
            "\u001b[0;31mOSError\u001b[0m: SavedModel file does not exist at: ./model/lstm_model/{saved_model.pbtxt|saved_model.pb}"
          ]
        }
      ],
      "source": [
        "from tensorflow import keras\n",
        "model = keras.models.load_model('./model/lstm_model')"
      ]
    },
    {
      "cell_type": "code",
      "execution_count": null,
      "metadata": {},
      "outputs": [],
      "source": []
    }
  ],
  "metadata": {
    "accelerator": "GPU",
    "colab": {
      "collapsed_sections": [],
      "machine_shape": "hm",
      "name": "M5_forecasting(3)_Exploration, LSTM, Deep AR(진행중).ipynb",
      "provenance": []
    },
    "kernelspec": {
      "display_name": "Python 3.8.3 64-bit ('image_crawler')",
      "language": "python",
      "name": "python3"
    },
    "language_info": {
      "codemirror_mode": {
        "name": "ipython",
        "version": 3
      },
      "file_extension": ".py",
      "mimetype": "text/x-python",
      "name": "python",
      "nbconvert_exporter": "python",
      "pygments_lexer": "ipython3",
      "version": "3.8.3"
    },
    "vscode": {
      "interpreter": {
        "hash": "3adb55b36cf11984244f732b8044a5f95e16798e2d742560837f6dd41133e800"
      }
    }
  },
  "nbformat": 4,
  "nbformat_minor": 0
}
